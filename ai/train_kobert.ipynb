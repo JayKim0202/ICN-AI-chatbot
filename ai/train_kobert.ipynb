{
 "cells": [
  {
   "cell_type": "markdown",
   "id": "92f5b622",
   "metadata": {},
   "source": "# 🧠 KoBERT Intent Classification - 실험용"
  },
  {
   "cell_type": "code",
   "id": "bc3d7a21",
   "metadata": {
    "ExecuteTime": {
     "end_time": "2025-07-23T00:58:22.451657Z",
     "start_time": "2025-07-23T00:58:14.551228Z"
    }
   },
   "source": [
    "import torch\n",
    "import torch.nn as nn\n",
    "from torch.nn.functional import softmax\n",
    "from torch.utils.data import DataLoader, Dataset\n",
    "from transformers import BertModel, BertTokenizer, logging as transformers_logging\n",
    "import pandas as pd\n",
    "from sklearn.preprocessing import LabelEncoder\n",
    "from sklearn.model_selection import train_test_split\n",
    "from sklearn.metrics import accuracy_score\n",
    "from tqdm import tqdm\n",
    "import matplotlib.pyplot as plt\n",
    "import pickle\n",
    "\n",
    "transformers_logging.set_verbosity_error()"
   ],
   "outputs": [
    {
     "name": "stderr",
     "output_type": "stream",
     "text": [
      "C:\\Users\\jenny\\PycharmProjects\\ICN-AI-chatbot\\ai\\.venv\\lib\\site-packages\\tqdm\\auto.py:21: TqdmWarning: IProgress not found. Please update jupyter and ipywidgets. See https://ipywidgets.readthedocs.io/en/stable/user_install.html\n",
      "  from .autonotebook import tqdm as notebook_tqdm\n"
     ]
    }
   ],
   "execution_count": 1
  },
  {
   "cell_type": "code",
   "id": "1430d5d5",
   "metadata": {
    "ExecuteTime": {
     "end_time": "2025-07-23T01:03:34.400220Z",
     "start_time": "2025-07-23T01:03:34.387219Z"
    }
   },
   "source": [
    "class IntentDataset(Dataset):\n",
    "    def __init__(self, df, tokenizer, label_encoder, max_len=64):\n",
    "        self.sentences = df['question'].tolist()\n",
    "        self.labels = label_encoder.transform(df['intent'].tolist())\n",
    "        self.tokenizer = tokenizer\n",
    "        self.max_len = max_len\n",
    "\n",
    "    def __len__(self):\n",
    "        return len(self.sentences)\n",
    "\n",
    "    def __getitem__(self, idx):\n",
    "        encoding = self.tokenizer(\n",
    "            self.sentences[idx],\n",
    "            truncation=True,\n",
    "            padding='max_length',\n",
    "            max_length=self.max_len,\n",
    "            return_tensors='pt'\n",
    "        )\n",
    "        return {\n",
    "            'input_ids': encoding['input_ids'].squeeze(0),\n",
    "            'attention_mask': encoding['attention_mask'].squeeze(0),\n",
    "            'label': torch.tensor(self.labels[idx], dtype=torch.long)\n",
    "        }\n",
    "\n",
    "class KoBERTClassifier(nn.Module):\n",
    "    def __init__(self, num_labels):\n",
    "        super(KoBERTClassifier, self).__init__()\n",
    "        self.bert = BertModel.from_pretrained(\"monologg/kobert\")\n",
    "        self.dropout = nn.Dropout(0.3)\n",
    "        self.classifier = nn.Linear(self.bert.config.hidden_size, num_labels)\n",
    "\n",
    "    def forward(self, input_ids, attention_mask):\n",
    "        outputs = self.bert(input_ids=input_ids, attention_mask=attention_mask)\n",
    "        pooled_output = outputs.pooler_output\n",
    "        output = self.dropout(pooled_output)\n",
    "        return self.classifier(output)"
   ],
   "outputs": [],
   "execution_count": 3
  },
  {
   "cell_type": "code",
   "id": "3bd1856a",
   "metadata": {
    "ExecuteTime": {
     "end_time": "2025-07-23T01:03:39.558353Z",
     "start_time": "2025-07-23T01:03:39.223476Z"
    }
   },
   "source": [
    "df = pd.read_csv(\"intent_dataset_cleaned.csv\")\n",
    "\n",
    "label_encoder = LabelEncoder()\n",
    "label_encoder.fit(df['intent'])\n",
    "\n",
    "train_df, val_df = train_test_split(\n",
    "    df, test_size=0.2, stratify=df['intent'], random_state=42\n",
    ")\n",
    "\n",
    "tokenizer = BertTokenizer.from_pretrained(\"monologg/kobert\")\n",
    "\n",
    "train_dataset = IntentDataset(train_df, tokenizer, label_encoder)\n",
    "val_dataset = IntentDataset(val_df, tokenizer, label_encoder)\n",
    "\n",
    "train_loader = DataLoader(train_dataset, batch_size=16, shuffle=True)\n",
    "val_loader = DataLoader(val_dataset, batch_size=16)"
   ],
   "outputs": [
    {
     "name": "stderr",
     "output_type": "stream",
     "text": [
      "C:\\Users\\jenny\\PycharmProjects\\ICN-AI-chatbot\\ai\\.venv\\lib\\site-packages\\huggingface_hub\\file_download.py:943: FutureWarning: `resume_download` is deprecated and will be removed in version 1.0.0. Downloads always resume when possible. If you want to force a new download, use `force_download=True`.\n",
      "  warnings.warn(\n"
     ]
    }
   ],
   "execution_count": 4
  },
  {
   "cell_type": "code",
   "id": "a77c0faf",
   "metadata": {
    "ExecuteTime": {
     "end_time": "2025-07-23T01:03:51.296277Z",
     "start_time": "2025-07-23T01:03:48.244758Z"
    }
   },
   "source": [
    "device = torch.device(\"cuda\" if torch.cuda.is_available() else \"cpu\")\n",
    "model = KoBERTClassifier(num_labels=len(label_encoder.classes_)).to(device)\n",
    "\n",
    "optimizer = torch.optim.AdamW(model.parameters(), lr=2e-5)\n",
    "criterion = nn.CrossEntropyLoss()"
   ],
   "outputs": [
    {
     "name": "stderr",
     "output_type": "stream",
     "text": [
      "C:\\Users\\jenny\\PycharmProjects\\ICN-AI-chatbot\\ai\\.venv\\lib\\site-packages\\huggingface_hub\\file_download.py:943: FutureWarning: `resume_download` is deprecated and will be removed in version 1.0.0. Downloads always resume when possible. If you want to force a new download, use `force_download=True`.\n",
      "  warnings.warn(\n"
     ]
    }
   ],
   "execution_count": 5
  },
  {
   "cell_type": "code",
   "id": "203150e8",
   "metadata": {
    "jupyter": {
     "is_executing": true
    },
    "ExecuteTime": {
     "start_time": "2025-07-23T01:03:53.324159Z"
    }
   },
   "source": [
    "# 성능 추적용 리스트\n",
    "train_losses = []\n",
    "val_accuracies = []\n",
    "val_confidences = []\n",
    "\n",
    "best_acc = 0\n",
    "EPOCHS = 10\n",
    "\n",
    "for epoch in range(EPOCHS):\n",
    "    model.train()\n",
    "    total_loss = 0\n",
    "    for batch in tqdm(train_loader, desc=f\"Epoch {epoch+1}\"):\n",
    "        input_ids = batch['input_ids'].to(device)\n",
    "        attention_mask = batch['attention_mask'].to(device)\n",
    "        labels = batch['label'].to(device)\n",
    "\n",
    "        outputs = model(input_ids, attention_mask)\n",
    "        loss = criterion(outputs, labels)\n",
    "\n",
    "        optimizer.zero_grad()\n",
    "        loss.backward()\n",
    "        optimizer.step()\n",
    "        total_loss += loss.item()\n",
    "\n",
    "    avg_train_loss = total_loss / len(train_loader)\n",
    "    train_losses.append(avg_train_loss)\n",
    "    print(f\"📚 Epoch {epoch+1} Loss: {avg_train_loss:.4f}\")\n",
    "\n",
    "    # 🎯 검증\n",
    "    model.eval()\n",
    "    preds, targets, confs_all = [], [], []\n",
    "    with torch.no_grad():\n",
    "        for batch in val_loader:\n",
    "            input_ids = batch['input_ids'].to(device)\n",
    "            attention_mask = batch['attention_mask'].to(device)\n",
    "            labels = batch['label'].to(device)\n",
    "\n",
    "            outputs = model(input_ids, attention_mask)\n",
    "            probs = softmax(outputs, dim=1)\n",
    "            confs, predicted = torch.max(probs, 1)\n",
    "\n",
    "            preds.extend(predicted.cpu().numpy())\n",
    "            targets.extend(labels.cpu().numpy())\n",
    "            confs_all.extend(confs.cpu().numpy())\n",
    "\n",
    "    acc = accuracy_score(targets, preds)\n",
    "    avg_conf = sum(confs_all) / len(confs_all)\n",
    "    val_accuracies.append(acc)\n",
    "    val_confidences.append(avg_conf)\n",
    "    print(f\"🎯 Val Acc: {acc:.4f} | 🔍 Avg Confidence: {avg_conf:.4f}\")\n",
    "\n",
    "    if acc > best_acc:\n",
    "        best_acc = acc\n",
    "        torch.save(model.state_dict(), \"best_kobert_model.pt\")\n",
    "        print(f\"✅ Best model saved! Acc: {acc:.4f}\")\n",
    "\n",
    "# 라벨 인코더도 함께 저장\n",
    "with open(\"label_encoder.pkl\", \"wb\") as f:\n",
    "    pickle.dump(label_encoder, f)"
   ],
   "outputs": [
    {
     "name": "stderr",
     "output_type": "stream",
     "text": [
      "Epoch 1: 100%|██████████| 245/245 [12:15<00:00,  3.00s/it]\n"
     ]
    },
    {
     "name": "stdout",
     "output_type": "stream",
     "text": [
      "📚 Epoch 1 Loss: 2.4408\n",
      "🎯 Val Acc: 0.4035 | 🔍 Avg Confidence: 0.2698\n",
      "✅ Best model saved! Acc: 0.4035\n"
     ]
    },
    {
     "name": "stderr",
     "output_type": "stream",
     "text": [
      "Epoch 2: 100%|██████████| 245/245 [12:22<00:00,  3.03s/it]\n"
     ]
    },
    {
     "name": "stdout",
     "output_type": "stream",
     "text": [
      "📚 Epoch 2 Loss: 1.9067\n",
      "🎯 Val Acc: 0.4413 | 🔍 Avg Confidence: 0.3944\n",
      "✅ Best model saved! Acc: 0.4413\n"
     ]
    },
    {
     "name": "stderr",
     "output_type": "stream",
     "text": [
      "Epoch 3: 100%|██████████| 245/245 [12:31<00:00,  3.07s/it]\n"
     ]
    },
    {
     "name": "stdout",
     "output_type": "stream",
     "text": [
      "📚 Epoch 3 Loss: 1.6664\n",
      "🎯 Val Acc: 0.4729 | 🔍 Avg Confidence: 0.4296\n",
      "✅ Best model saved! Acc: 0.4729\n"
     ]
    },
    {
     "name": "stderr",
     "output_type": "stream",
     "text": [
      "Epoch 4:   0%|          | 1/245 [00:02<11:39,  2.87s/it]"
     ]
    }
   ],
   "execution_count": null
  },
  {
   "metadata": {},
   "cell_type": "code",
   "outputs": [],
   "execution_count": null,
   "source": [
    "# 📈 학습 곡선 시각화\n",
    "plt.figure(figsize=(10, 5))\n",
    "plt.plot(train_losses, label='Train Loss')\n",
    "plt.plot(val_accuracies, label='Val Accuracy')\n",
    "plt.plot(val_confidences, label='Avg Confidence')\n",
    "plt.legend()\n",
    "plt.title(\"Training Progress\")\n",
    "plt.xlabel(\"Epoch\")\n",
    "plt.grid(True)\n",
    "plt.show()"
   ],
   "id": "0481949b"
  }
 ],
 "metadata": {
  "kernelspec": {
   "name": "python3",
   "language": "python",
   "display_name": "Python 3 (ipykernel)"
  }
 },
 "nbformat": 4,
 "nbformat_minor": 5
}
